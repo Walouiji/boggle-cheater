{
 "cells": [
  {
   "cell_type": "code",
   "execution_count": 1,
   "id": "0d6ba2dc",
   "metadata": {},
   "outputs": [],
   "source": [
    "import os\n",
    "from tqdm import tqdm\n",
    "from PIL import Image\n",
    "import random\n",
    "from tensorflow import keras\n",
    "import tensorflow as tf\n",
    "from keras.layers import Dense, Activation, Dropout, Flatten, Conv2D, MaxPooling2D\n",
    "import numpy as np\n",
    "import glob\n",
    "import cv2\n",
    "from sklearn.model_selection import train_test_split\n",
    "import matplotlib.pyplot as plt\n",
    "from functools import partial\n",
    "\n",
    "import utils"
   ]
  },
  {
   "cell_type": "code",
   "execution_count": 2,
   "id": "aec2a211",
   "metadata": {},
   "outputs": [],
   "source": [
    "dirpath = r\"C:\\Users\\Alexandre\\Downloads\\FinalDataSet2\"\n",
    "\n",
    "size = [100,100]\n",
    "\n",
    "train_images_load = np.empty((0,size[1], size[0]), int)\n",
    "test_images_load = np.empty((0,size[1], size[0]), int)\n",
    "train_labels_load = np.empty((0,1), int)\n",
    "test_labels_load = np.empty((0,1), int)\n",
    "\n",
    "x_train = np.empty((0,size[1], size[0]), int)\n",
    "x_test = np.empty((0,size[1], size[0]), int)\n",
    "y_train = np.empty((0,1), int)\n",
    "y_test = np.empty((0,1), int)\n",
    "\n",
    "trainPath = []\n",
    "for path in os.listdir(dirpath):\n",
    "    trainPath.append(path)"
   ]
  },
  {
   "cell_type": "code",
   "execution_count": 3,
   "id": "52c338ed",
   "metadata": {
    "scrolled": true
   },
   "outputs": [
    {
     "name": "stdout",
     "output_type": "stream",
     "text": [
      "C:\\Users\\Alexandre\\Downloads\\FinalDataSet2\\A\n"
     ]
    },
    {
     "name": "stderr",
     "output_type": "stream",
     "text": [
      "100%|█████████████████████████████████████████████████████████████████████████████████| 82/82 [00:00<00:00, 253.94it/s]\n"
     ]
    },
    {
     "name": "stdout",
     "output_type": "stream",
     "text": [
      "C:\\Users\\Alexandre\\Downloads\\FinalDataSet2\\B\n"
     ]
    },
    {
     "name": "stderr",
     "output_type": "stream",
     "text": [
      "100%|████████████████████████████████████████████████████████████████████████████████| 80/80 [00:00<00:00, 1046.28it/s]\n"
     ]
    },
    {
     "name": "stdout",
     "output_type": "stream",
     "text": [
      "C:\\Users\\Alexandre\\Downloads\\FinalDataSet2\\C\n"
     ]
    },
    {
     "name": "stderr",
     "output_type": "stream",
     "text": [
      "100%|████████████████████████████████████████████████████████████████████████████████| 84/84 [00:00<00:00, 1000.01it/s]\n"
     ]
    },
    {
     "name": "stdout",
     "output_type": "stream",
     "text": [
      "C:\\Users\\Alexandre\\Downloads\\FinalDataSet2\\D\n"
     ]
    },
    {
     "name": "stderr",
     "output_type": "stream",
     "text": [
      "100%|█████████████████████████████████████████████████████████████████████████████████| 82/82 [00:00<00:00, 683.33it/s]\n"
     ]
    },
    {
     "name": "stdout",
     "output_type": "stream",
     "text": [
      "C:\\Users\\Alexandre\\Downloads\\FinalDataSet2\\E\n"
     ]
    },
    {
     "name": "stderr",
     "output_type": "stream",
     "text": [
      "100%|█████████████████████████████████████████████████████████████████████████████████| 82/82 [00:00<00:00, 230.82it/s]\n"
     ]
    },
    {
     "name": "stdout",
     "output_type": "stream",
     "text": [
      "C:\\Users\\Alexandre\\Downloads\\FinalDataSet2\\F\n"
     ]
    },
    {
     "name": "stderr",
     "output_type": "stream",
     "text": [
      "100%|█████████████████████████████████████████████████████████████████████████████████| 93/93 [00:00<00:00, 258.49it/s]\n"
     ]
    },
    {
     "name": "stdout",
     "output_type": "stream",
     "text": [
      "C:\\Users\\Alexandre\\Downloads\\FinalDataSet2\\G\n"
     ]
    },
    {
     "name": "stderr",
     "output_type": "stream",
     "text": [
      "100%|█████████████████████████████████████████████████████████████████████████████████| 82/82 [00:00<00:00, 784.62it/s]\n"
     ]
    },
    {
     "name": "stdout",
     "output_type": "stream",
     "text": [
      "C:\\Users\\Alexandre\\Downloads\\FinalDataSet2\\H\n"
     ]
    },
    {
     "name": "stderr",
     "output_type": "stream",
     "text": [
      "100%|█████████████████████████████████████████████████████████████████████████████████| 82/82 [00:00<00:00, 700.86it/s]\n"
     ]
    },
    {
     "name": "stdout",
     "output_type": "stream",
     "text": [
      "C:\\Users\\Alexandre\\Downloads\\FinalDataSet2\\I\n"
     ]
    },
    {
     "name": "stderr",
     "output_type": "stream",
     "text": [
      "100%|█████████████████████████████████████████████████████████████████████████████████| 82/82 [00:00<00:00, 868.70it/s]\n"
     ]
    },
    {
     "name": "stdout",
     "output_type": "stream",
     "text": [
      "C:\\Users\\Alexandre\\Downloads\\FinalDataSet2\\J\n"
     ]
    },
    {
     "name": "stderr",
     "output_type": "stream",
     "text": [
      "100%|█████████████████████████████████████████████████████████████████████████████████| 87/87 [00:00<00:00, 285.36it/s]\n"
     ]
    },
    {
     "name": "stdout",
     "output_type": "stream",
     "text": [
      "C:\\Users\\Alexandre\\Downloads\\FinalDataSet2\\K\n"
     ]
    },
    {
     "name": "stderr",
     "output_type": "stream",
     "text": [
      "100%|██████████████████████████████████████████████████████████████████████████████████| 84/84 [00:01<00:00, 50.02it/s]\n"
     ]
    },
    {
     "name": "stdout",
     "output_type": "stream",
     "text": [
      "C:\\Users\\Alexandre\\Downloads\\FinalDataSet2\\L\n"
     ]
    },
    {
     "name": "stderr",
     "output_type": "stream",
     "text": [
      "100%|█████████████████████████████████████████████████████████████████████████████████| 87/87 [00:00<00:00, 618.36it/s]\n"
     ]
    },
    {
     "name": "stdout",
     "output_type": "stream",
     "text": [
      "C:\\Users\\Alexandre\\Downloads\\FinalDataSet2\\M\n"
     ]
    },
    {
     "name": "stderr",
     "output_type": "stream",
     "text": [
      "100%|█████████████████████████████████████████████████████████████████████████████████| 84/84 [00:00<00:00, 651.16it/s]\n"
     ]
    },
    {
     "name": "stdout",
     "output_type": "stream",
     "text": [
      "C:\\Users\\Alexandre\\Downloads\\FinalDataSet2\\N\n"
     ]
    },
    {
     "name": "stderr",
     "output_type": "stream",
     "text": [
      "100%|█████████████████████████████████████████████████████████████████████████████████| 82/82 [00:00<00:00, 512.50it/s]\n"
     ]
    },
    {
     "name": "stdout",
     "output_type": "stream",
     "text": [
      "C:\\Users\\Alexandre\\Downloads\\FinalDataSet2\\O\n"
     ]
    },
    {
     "name": "stderr",
     "output_type": "stream",
     "text": [
      "100%|█████████████████████████████████████████████████████████████████████████████████| 82/82 [00:00<00:00, 589.94it/s]\n"
     ]
    },
    {
     "name": "stdout",
     "output_type": "stream",
     "text": [
      "C:\\Users\\Alexandre\\Downloads\\FinalDataSet2\\P\n"
     ]
    },
    {
     "name": "stderr",
     "output_type": "stream",
     "text": [
      "100%|█████████████████████████████████████████████████████████████████████████████████| 80/80 [00:00<00:00, 273.04it/s]\n"
     ]
    },
    {
     "name": "stdout",
     "output_type": "stream",
     "text": [
      "C:\\Users\\Alexandre\\Downloads\\FinalDataSet2\\Qu\n"
     ]
    },
    {
     "name": "stderr",
     "output_type": "stream",
     "text": [
      "100%|█████████████████████████████████████████████████████████████████████████████████| 81/81 [00:00<00:00, 654.03it/s]\n"
     ]
    },
    {
     "name": "stdout",
     "output_type": "stream",
     "text": [
      "C:\\Users\\Alexandre\\Downloads\\FinalDataSet2\\R\n"
     ]
    },
    {
     "name": "stderr",
     "output_type": "stream",
     "text": [
      "100%|█████████████████████████████████████████████████████████████████████████████████| 82/82 [00:00<00:00, 545.94it/s]\n"
     ]
    },
    {
     "name": "stdout",
     "output_type": "stream",
     "text": [
      "C:\\Users\\Alexandre\\Downloads\\FinalDataSet2\\S\n"
     ]
    },
    {
     "name": "stderr",
     "output_type": "stream",
     "text": [
      "100%|█████████████████████████████████████████████████████████████████████████████████| 82/82 [00:00<00:00, 573.47it/s]\n"
     ]
    },
    {
     "name": "stdout",
     "output_type": "stream",
     "text": [
      "C:\\Users\\Alexandre\\Downloads\\FinalDataSet2\\T\n"
     ]
    },
    {
     "name": "stderr",
     "output_type": "stream",
     "text": [
      "100%|█████████████████████████████████████████████████████████████████████████████████| 84/84 [00:00<00:00, 575.36it/s]\n"
     ]
    },
    {
     "name": "stdout",
     "output_type": "stream",
     "text": [
      "C:\\Users\\Alexandre\\Downloads\\FinalDataSet2\\U\n"
     ]
    },
    {
     "name": "stderr",
     "output_type": "stream",
     "text": [
      "100%|█████████████████████████████████████████████████████████████████████████████████| 82/82 [00:00<00:00, 517.03it/s]\n"
     ]
    },
    {
     "name": "stdout",
     "output_type": "stream",
     "text": [
      "C:\\Users\\Alexandre\\Downloads\\FinalDataSet2\\V\n"
     ]
    },
    {
     "name": "stderr",
     "output_type": "stream",
     "text": [
      "100%|█████████████████████████████████████████████████████████████████████████████████| 80/80 [00:00<00:00, 634.91it/s]\n"
     ]
    },
    {
     "name": "stdout",
     "output_type": "stream",
     "text": [
      "C:\\Users\\Alexandre\\Downloads\\FinalDataSet2\\W\n"
     ]
    },
    {
     "name": "stderr",
     "output_type": "stream",
     "text": [
      "100%|█████████████████████████████████████████████████████████████████████████████████| 80/80 [00:00<00:00, 629.92it/s]\n"
     ]
    },
    {
     "name": "stdout",
     "output_type": "stream",
     "text": [
      "C:\\Users\\Alexandre\\Downloads\\FinalDataSet2\\X\n"
     ]
    },
    {
     "name": "stderr",
     "output_type": "stream",
     "text": [
      "100%|█████████████████████████████████████████████████████████████████████████████████| 80/80 [00:00<00:00, 666.98it/s]\n"
     ]
    },
    {
     "name": "stdout",
     "output_type": "stream",
     "text": [
      "C:\\Users\\Alexandre\\Downloads\\FinalDataSet2\\Y\n"
     ]
    },
    {
     "name": "stderr",
     "output_type": "stream",
     "text": [
      "100%|█████████████████████████████████████████████████████████████████████████████████| 80/80 [00:00<00:00, 715.26it/s]\n"
     ]
    },
    {
     "name": "stdout",
     "output_type": "stream",
     "text": [
      "C:\\Users\\Alexandre\\Downloads\\FinalDataSet2\\z\n"
     ]
    },
    {
     "name": "stderr",
     "output_type": "stream",
     "text": [
      "100%|█████████████████████████████████████████████████████████████████████████████████| 80/80 [00:00<00:00, 404.87it/s]\n"
     ]
    },
    {
     "name": "stdout",
     "output_type": "stream",
     "text": [
      "training image shape : (1731, 100, 100)\n",
      "testing  image shape : (415, 100, 100)\n",
      "\n"
     ]
    }
   ],
   "source": [
    "for path in os.listdir(dirpath):\n",
    "    print(dirpath+\"\\\\\"+path)\n",
    "    count = 1\n",
    "    testImageNumber = random.sample(range(0,len(glob.glob(dirpath+\"\\\\\"+path+\"\\\\*.png\"))),round(len(glob.glob(dirpath+\"\\\\\"+path+\"\\\\*.png\"))*0.2))\n",
    "    #on génére une suite de nombre aléatoire unique en regardant combien d'image se trouve dans le fichier, permet de séparer train/test\n",
    "    label = trainPath.index(path)\n",
    "    for png in tqdm(glob.glob(dirpath+\"\\\\\"+path+\"\\\\*.png\")):\n",
    "        count+=1\n",
    "        image = cv2.imread(png,0)\n",
    "        image = cv2.resize(image, (100, 100))\n",
    "        \n",
    "        if (count%40 == 39):\n",
    "            x_train = np.append(x_train, train_images_load, axis=0)\n",
    "            x_test = np.append(x_test, test_images_load, axis=0)\n",
    "            y_train = np.append(y_train, train_labels_load, axis=0)\n",
    "            y_test = np.append(y_test, test_labels_load, axis=0)\n",
    "            \n",
    "            train_images_load = np.empty((0,size[1], size[0]), int)\n",
    "            test_images_load = np.empty((0,size[1], size[0]), int)\n",
    "            train_labels_load = np.empty((0,1), int)\n",
    "            test_labels_load = np.empty((0,1), int)\n",
    "            \n",
    "        if (count in testImageNumber):\n",
    "            test_images_load = np.append(test_images_load, [image], axis=0)\n",
    "            test_labels_load = np.append(test_labels_load, [[label]], axis=0)\n",
    "        else:     \n",
    "            train_images_load = np.append(train_images_load, [image],axis = 0)\n",
    "            train_labels_load = np.append(train_labels_load, [[label]], axis = 0)\n",
    "            \n",
    "\n",
    "x_train = np.append(x_train, train_images_load, axis=0)\n",
    "x_test = np.append(x_test, test_images_load, axis=0)\n",
    "y_train = np.append(y_train, train_labels_load, axis=0)\n",
    "y_test = np.append(y_test, test_labels_load, axis=0)\n",
    "\n",
    "x_train, x_test = x_train / 255.0, x_test / 255.0\n",
    "print(\"training image shape : \"+str(x_train.shape))\n",
    "print(\"testing  image shape : \"+str(x_test.shape)+\"\\n\")\n",
    "\n",
    "x_train, x_val, y_train, y_val = train_test_split(x_train, y_train, test_size=0.20, shuffle=True)"
   ]
  },
  {
   "cell_type": "code",
   "execution_count": 10,
   "id": "c6880caa",
   "metadata": {},
   "outputs": [],
   "source": [
    "model = tf.keras.models.Sequential([\n",
    "    keras.layers.Conv2D( 64, 7, activation =\"relu\", padding =\"same\", input_shape =[ 100, 100, 1]),\n",
    "    keras.layers.MaxPooling2D(2),  tf.keras.layers.Conv2D(128, 3, activation =\"relu\", padding =\"same\"),\n",
    "    keras.layers.Conv2D( 64, 7, activation =\"relu\", padding =\"same\"),\n",
    "    keras.layers.MaxPooling2D(2),  tf.keras.layers.Conv2D(256, 3, activation =\"relu\", padding =\"same\"),\n",
    "    \n",
    "    keras.layers.MaxPooling2D( 2),\n",
    "    \n",
    "    keras.layers.Flatten(),\n",
    "    keras.layers.BatchNormalization(),\n",
    "    keras.layers.Dense(200, activation=\"relu\"),\n",
    "    keras.layers.BatchNormalization(),\n",
    "    keras.layers.Dense(26, activation=\"softmax\")\n",
    "])"
   ]
  },
  {
   "cell_type": "code",
   "execution_count": 11,
   "id": "996fe98a",
   "metadata": {},
   "outputs": [],
   "source": [
    "model.compile(optimizer=\"adam\", loss=\"sparse_categorical_crossentropy\", metrics=[\"accuracy\"])"
   ]
  },
  {
   "cell_type": "code",
   "execution_count": 12,
   "id": "aab7444f",
   "metadata": {
    "scrolled": true
   },
   "outputs": [
    {
     "name": "stdout",
     "output_type": "stream",
     "text": [
      "Epoch 1/5\n",
      "39/39 [==============================] - 79s 2s/step - loss: 1.6263 - accuracy: 0.5550 - val_loss: 3.7291 - val_accuracy: 0.1511\n",
      "Epoch 2/5\n",
      "39/39 [==============================] - 81s 2s/step - loss: 0.3982 - accuracy: 0.9012 - val_loss: 2.6288 - val_accuracy: 0.2590\n",
      "Epoch 3/5\n",
      "39/39 [==============================] - 81s 2s/step - loss: 0.1870 - accuracy: 0.9598 - val_loss: 1.1234 - val_accuracy: 0.7986\n",
      "Epoch 4/5\n",
      "39/39 [==============================] - 79s 2s/step - loss: 0.0694 - accuracy: 0.9880 - val_loss: 1.2154 - val_accuracy: 0.6331\n",
      "Epoch 5/5\n",
      "39/39 [==============================] - 79s 2s/step - loss: 0.0444 - accuracy: 0.9936 - val_loss: 0.4606 - val_accuracy: 0.9353\n"
     ]
    },
    {
     "data": {
      "image/png": "[encoded data removed]",
      "text/plain": [
       "<Figure size 576x360 with 1 Axes>"
      ]
     },
     "metadata": {
      "needs_background": "light"
     },
     "output_type": "display_data"
    }
   ],
   "source": [
    "history = model.fit(x_train, y_train, epochs=5, validation_split=0.1,verbose=1)\n",
    "utils.plot_fit_history(history)"
   ]
  },
  {
   "cell_type": "code",
   "execution_count": 7,
   "id": "f385067e",
   "metadata": {},
   "outputs": [
    {
     "name": "stdout",
     "output_type": "stream",
     "text": [
      "13/13 [==============================] - 5s 375ms/step\n"
     ]
    }
   ],
   "source": [
    "y_pred = model.predict(x_test)"
   ]
  },
  {
   "cell_type": "code",
   "execution_count": 8,
   "id": "fc0faffa",
   "metadata": {},
   "outputs": [],
   "source": [
    "import seaborn as sns\n",
    "label_names = ['A', 'B','C','D', 'E','F','G', 'H','I','J', 'K','L','M', 'N','O','P', 'Qu','R', 'S', 'T','U','V', 'W','X','Y','Z']"
   ]
  },
  {
   "cell_type": "code",
   "execution_count": 9,
   "id": "49648b8e",
   "metadata": {
    "scrolled": false
   },
   "outputs": [
    {
     "data": {
      "image/png": "[encoded data removed]",
      "text/plain": [
       "<Figure size 432x288 with 1 Axes>"
      ]
     },
     "metadata": {
      "needs_background": "light"
     },
     "output_type": "display_data"
    },
    {
     "data": {
      "text/plain": [
       "'D'"
      ]
     },
     "execution_count": 9,
     "metadata": {},
     "output_type": "execute_result"
    }
   ],
   "source": [
    "i = 50\n",
    "plt.imshow(x_test[i], cmap=\"gray\", interpolation=\"nearest\")\n",
    "plt.axis(\"off\")\n",
    "plt.show()\n",
    "y = y_pred[i]\n",
    "x = label_names\n",
    "\n",
    "# sns.barplot(x=x, y=y)\n",
    "x[np.argmax(y)]\n"
   ]
  },
  {
   "cell_type": "code",
   "execution_count": 49,
   "id": "caf1ff20",
   "metadata": {},
   "outputs": [
    {
     "name": "stdout",
     "output_type": "stream",
     "text": [
      "(100, 100)\n",
      "(100, 100)\n",
      "(100, 100)\n",
      "(100, 100)\n",
      "(100, 100)\n",
      "WARNING:tensorflow:Model was constructed with shape (None, 100, 100, 1) for input KerasTensor(type_spec=TensorSpec(shape=(None, 100, 100, 1), dtype=tf.float32, name='conv2d_4_input'), name='conv2d_4_input', description=\"created by layer 'conv2d_4_input'\"), but it was called on an input with incompatible shape (None, 100).\n"
     ]
    },
    {
     "ename": "ValueError",
     "evalue": "in user code:\n\n    File \"C:\\Users\\Alexandre\\anaconda3\\lib\\site-packages\\keras\\engine\\training.py\", line 1845, in predict_function  *\n        return step_function(self, iterator)\n    File \"C:\\Users\\Alexandre\\anaconda3\\lib\\site-packages\\keras\\engine\\training.py\", line 1834, in step_function  **\n        outputs = model.distribute_strategy.run(run_step, args=(data,))\n    File \"C:\\Users\\Alexandre\\anaconda3\\lib\\site-packages\\keras\\engine\\training.py\", line 1823, in run_step  **\n        outputs = model.predict_step(data)\n    File \"C:\\Users\\Alexandre\\anaconda3\\lib\\site-packages\\keras\\engine\\training.py\", line 1791, in predict_step\n        return self(x, training=False)\n    File \"C:\\Users\\Alexandre\\anaconda3\\lib\\site-packages\\keras\\utils\\traceback_utils.py\", line 67, in error_handler\n        raise e.with_traceback(filtered_tb) from None\n    File \"C:\\Users\\Alexandre\\anaconda3\\lib\\site-packages\\keras\\engine\\input_spec.py\", line 228, in assert_input_compatibility\n        raise ValueError(f'Input {input_index} of layer \"{layer_name}\" '\n\n    ValueError: Exception encountered when calling layer \"sequential_1\" (type Sequential).\n    \n    Input 0 of layer \"conv2d_4\" is incompatible with the layer: expected min_ndim=4, found ndim=2. Full shape received: (None, 100)\n    \n    Call arguments received by layer \"sequential_1\" (type Sequential):\n      • inputs=tf.Tensor(shape=(None, 100), dtype=uint8)\n      • training=False\n      • mask=None\n",
     "output_type": "error",
     "traceback": [
      "\u001b[1;31m---------------------------------------------------------------------------\u001b[0m",
      "\u001b[1;31mValueError\u001b[0m                                Traceback (most recent call last)",
      "Input \u001b[1;32mIn [49]\u001b[0m, in \u001b[0;36m<cell line: 10>\u001b[1;34m()\u001b[0m\n\u001b[0;32m      7\u001b[0m     x_testing\u001b[38;5;241m.\u001b[39mappend(image)\n\u001b[0;32m      8\u001b[0m     \u001b[38;5;28mprint\u001b[39m(image\u001b[38;5;241m.\u001b[39mshape)\n\u001b[1;32m---> 10\u001b[0m pred \u001b[38;5;241m=\u001b[39m \u001b[43mmodel\u001b[49m\u001b[38;5;241;43m.\u001b[39;49m\u001b[43mpredict\u001b[49m\u001b[43m(\u001b[49m\u001b[43mx_testing\u001b[49m\u001b[43m[\u001b[49m\u001b[38;5;241;43m0\u001b[39;49m\u001b[43m]\u001b[49m\u001b[43m)\u001b[49m\n\u001b[0;32m     11\u001b[0m x_train[\u001b[38;5;241m0\u001b[39m]\u001b[38;5;241m.\u001b[39mshape\n",
      "File \u001b[1;32m~\\anaconda3\\lib\\site-packages\\keras\\utils\\traceback_utils.py:67\u001b[0m, in \u001b[0;36mfilter_traceback.<locals>.error_handler\u001b[1;34m(*args, **kwargs)\u001b[0m\n\u001b[0;32m     65\u001b[0m \u001b[38;5;28;01mexcept\u001b[39;00m \u001b[38;5;167;01mException\u001b[39;00m \u001b[38;5;28;01mas\u001b[39;00m e:  \u001b[38;5;66;03m# pylint: disable=broad-except\u001b[39;00m\n\u001b[0;32m     66\u001b[0m   filtered_tb \u001b[38;5;241m=\u001b[39m _process_traceback_frames(e\u001b[38;5;241m.\u001b[39m__traceback__)\n\u001b[1;32m---> 67\u001b[0m   \u001b[38;5;28;01mraise\u001b[39;00m e\u001b[38;5;241m.\u001b[39mwith_traceback(filtered_tb) \u001b[38;5;28;01mfrom\u001b[39;00m \u001b[38;5;28mNone\u001b[39m\n\u001b[0;32m     68\u001b[0m \u001b[38;5;28;01mfinally\u001b[39;00m:\n\u001b[0;32m     69\u001b[0m   \u001b[38;5;28;01mdel\u001b[39;00m filtered_tb\n",
      "File \u001b[1;32mC:\\Users\\ALEXAN~1\\AppData\\Local\\Temp\\__autograph_generated_file5qzaaane.py:15\u001b[0m, in \u001b[0;36mouter_factory.<locals>.inner_factory.<locals>.tf__predict_function\u001b[1;34m(iterator)\u001b[0m\n\u001b[0;32m     13\u001b[0m \u001b[38;5;28;01mtry\u001b[39;00m:\n\u001b[0;32m     14\u001b[0m     do_return \u001b[38;5;241m=\u001b[39m \u001b[38;5;28;01mTrue\u001b[39;00m\n\u001b[1;32m---> 15\u001b[0m     retval_ \u001b[38;5;241m=\u001b[39m ag__\u001b[38;5;241m.\u001b[39mconverted_call(ag__\u001b[38;5;241m.\u001b[39mld(step_function), (ag__\u001b[38;5;241m.\u001b[39mld(\u001b[38;5;28mself\u001b[39m), ag__\u001b[38;5;241m.\u001b[39mld(iterator)), \u001b[38;5;28;01mNone\u001b[39;00m, fscope)\n\u001b[0;32m     16\u001b[0m \u001b[38;5;28;01mexcept\u001b[39;00m:\n\u001b[0;32m     17\u001b[0m     do_return \u001b[38;5;241m=\u001b[39m \u001b[38;5;28;01mFalse\u001b[39;00m\n",
      "\u001b[1;31mValueError\u001b[0m: in user code:\n\n    File \"C:\\Users\\Alexandre\\anaconda3\\lib\\site-packages\\keras\\engine\\training.py\", line 1845, in predict_function  *\n        return step_function(self, iterator)\n    File \"C:\\Users\\Alexandre\\anaconda3\\lib\\site-packages\\keras\\engine\\training.py\", line 1834, in step_function  **\n        outputs = model.distribute_strategy.run(run_step, args=(data,))\n    File \"C:\\Users\\Alexandre\\anaconda3\\lib\\site-packages\\keras\\engine\\training.py\", line 1823, in run_step  **\n        outputs = model.predict_step(data)\n    File \"C:\\Users\\Alexandre\\anaconda3\\lib\\site-packages\\keras\\engine\\training.py\", line 1791, in predict_step\n        return self(x, training=False)\n    File \"C:\\Users\\Alexandre\\anaconda3\\lib\\site-packages\\keras\\utils\\traceback_utils.py\", line 67, in error_handler\n        raise e.with_traceback(filtered_tb) from None\n    File \"C:\\Users\\Alexandre\\anaconda3\\lib\\site-packages\\keras\\engine\\input_spec.py\", line 228, in assert_input_compatibility\n        raise ValueError(f'Input {input_index} of layer \"{layer_name}\" '\n\n    ValueError: Exception encountered when calling layer \"sequential_1\" (type Sequential).\n    \n    Input 0 of layer \"conv2d_4\" is incompatible with the layer: expected min_ndim=4, found ndim=2. Full shape received: (None, 100)\n    \n    Call arguments received by layer \"sequential_1\" (type Sequential):\n      • inputs=tf.Tensor(shape=(None, 100), dtype=uint8)\n      • training=False\n      • mask=None\n"
     ]
    }
   ],
   "source": [
    "x_testing = []\n",
    "board_path = glob.glob(\"C:\\\\Users\\\\Alexandre\\\\Documents\\\\ecole\\\\IT 4\\\\IA\\\\projet\\\\boards\\\\*\")\n",
    "\n",
    "for file in board_path:\n",
    "    image = cv2.imread(file)\n",
    "    image = cv2.resize(image[:,:,1], (100, 100))\n",
    "    x_testing.append(image)\n",
    "    print(image.shape)\n",
    "    \n",
    "pred = model.predict(x_testing[0])\n",
    "x_train[0].shape"
   ]
  }
 ],
 "metadata": {
  "kernelspec": {
   "display_name": "Python 3 (ipykernel)",
   "language": "python",
   "name": "python3"
  },
  "language_info": {
   "codemirror_mode": {
    "name": "ipython",
    "version": 3
   },
   "file_extension": ".py",
   "mimetype": "text/x-python",
   "name": "python",
   "nbconvert_exporter": "python",
   "pygments_lexer": "ipython3",
   "version": "3.9.12"
  }
 },
 "nbformat": 4,
 "nbformat_minor": 5
}
