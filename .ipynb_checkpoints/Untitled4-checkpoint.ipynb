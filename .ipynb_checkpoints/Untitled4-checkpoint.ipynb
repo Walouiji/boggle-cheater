{
 "cells": [
  {
   "cell_type": "code",
   "execution_count": 16,
   "metadata": {
    "id": "9a_Lk9y6H3aQ"
   },
   "outputs": [],
   "source": [
    "import numpy as np\n",
    "from PIL import Image\n",
    "from matplotlib import pyplot as plt\n",
    "\n",
    "stored_tuple = [()]"
   ]
  },
  {
   "cell_type": "code",
   "execution_count": 17,
   "metadata": {
    "id": "tWaRzI1fJqa-"
   },
   "outputs": [],
   "source": [
    "an_image = Image.open(\"A.png\")\n",
    "image_sequence = an_image.getdata()\n",
    "image_array = np.array(image_sequence)\n",
    "stored_tuple.append((image_array,\"A\"))\n",
    "\n",
    "an_image = Image.open(\"A1.png\")\n",
    "image_sequence = an_image.getdata()\n",
    "image_array = np.array(image_sequence)\n",
    "stored_tuple.append((image_array,\"A\"))\n",
    "\n",
    "an_image = Image.open(\"B.png\")\n",
    "image_sequence = an_image.getdata()\n",
    "image_array = np.array(image_sequence)\n",
    "stored_tuple.append((image_array,\"B\"))\n",
    "\n",
    "an_image = Image.open(\"B1.png\")\n",
    "image_sequence = an_image.getdata()\n",
    "image_array = np.array(image_sequence)\n",
    "stored_tuple.append((image_array,\"B\"))"
   ]
  },
  {
   "cell_type": "code",
   "execution_count": 22,
   "metadata": {
    "colab": {
     "base_uri": "https://localhost:8080/"
    },
    "id": "hDm1E22RLRGg",
    "outputId": "72ee7828-f908-44ae-ef94-c759a57e46fe"
   },
   "outputs": [
    {
     "data": {
      "text/plain": [
       "[(), array([[ 93,  57,  57],\n",
       "        [108,  73,  77],\n",
       "        [120,  87,  94],\n",
       "        ...,\n",
       "        [250,  72,  12],\n",
       "        [248,  72,  12],\n",
       "        [248,  74,  13]])]"
      ]
     },
     "execution_count": 22,
     "metadata": {},
     "output_type": "execute_result"
    }
   ],
   "source": [
    "stored_tuple"
   ]
  },
  {
   "cell_type": "code",
   "execution_count": 20,
   "metadata": {
    "colab": {
     "base_uri": "https://localhost:8080/",
     "height": 286
    },
    "id": "u16UiMAgQ03c",
    "outputId": "b36c1cc8-3225-4f35-ed84-eb89fd4cb1d0"
   },
   "outputs": [
    {
     "data": {
      "text/plain": [
       "<matplotlib.image.AxesImage at 0x7f8ebdfb3410>"
      ]
     },
     "execution_count": 20,
     "metadata": {},
     "output_type": "execute_result"
    },
    {
     "data": {
      "image/png": "[encoded data removed]",
      "text/plain": [
       "<Figure size 432x288 with 1 Axes>"
      ]
     },
     "metadata": {
      "needs_background": "light"
     },
     "output_type": "display_data"
    }
   ],
   "source": [
    "plt.imshow(stored_tuple[1])"
   ]
  }
 ],
 "metadata": {
  "colab": {
   "collapsed_sections": [],
   "name": "Untitled4.ipynb",
   "provenance": []
  },
  "kernelspec": {
   "display_name": "Python 3",
   "name": "python3"
  },
  "language_info": {
   "name": "python"
  }
 },
 "nbformat": 4,
 "nbformat_minor": 0
}
