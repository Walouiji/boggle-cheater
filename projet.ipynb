{
 "cells": [
  {
   "cell_type": "code",
   "execution_count": 1,
   "id": "5c561cfd",
   "metadata": {},
   "outputs": [],
   "source": [
    "import os\n",
    "from tqdm import tqdm\n",
    "from PIL import Image\n",
    "import random\n",
    "from tensorflow import keras\n",
    "import tensorflow as tf\n",
    "from keras.layers import Dense, Activation, Dropout, Flatten, Conv2D, MaxPooling2D\n",
    "import numpy as np\n",
    "import glob\n",
    "import cv2\n",
    "from sklearn.model_selection import train_test_split\n",
    "import matplotlib.pyplot as plt\n",
    "from functools import partial\n",
    "\n",
    "import utils"
   ]
  },
  {
   "cell_type": "code",
   "execution_count": 2,
   "id": "85214eac",
   "metadata": {},
   "outputs": [],
   "source": [
    "dirpath = r\"C:\\Users\\Alexandre\\Downloads\\FinalDataSet2\"\n",
    "\n",
    "size = [100,100]\n",
    "\n",
    "train_images_load = np.empty((0,size[1], size[0]), int)\n",
    "test_images_load = np.empty((0,size[1], size[0]), int)\n",
    "train_labels_load = np.empty((0,1), int)\n",
    "test_labels_load = np.empty((0,1), int)\n",
    "\n",
    "x_train = np.empty((0,size[1], size[0]), int)\n",
    "x_test = np.empty((0,size[1], size[0]), int)\n",
    "y_train = np.empty((0,1), int)\n",
    "y_test = np.empty((0,1), int)\n",
    "\n",
    "trainPath = []\n",
    "for path in os.listdir(dirpath):\n",
    "    trainPath.append(path)"
   ]
  },
  {
   "cell_type": "code",
   "execution_count": 3,
   "id": "e2aeeb1a",
   "metadata": {
    "scrolled": true
   },
   "outputs": [
    {
     "name": "stdout",
     "output_type": "stream",
     "text": [
      "C:\\Users\\Alexandre\\Downloads\\FinalDataSet2\\A\n"
     ]
    },
    {
     "name": "stderr",
     "output_type": "stream",
     "text": [
      "100%|█████████████████████████████████████████████████████████████████████████████████| 82/82 [00:00<00:00, 197.12it/s]\n"
     ]
    },
    {
     "name": "stdout",
     "output_type": "stream",
     "text": [
      "C:\\Users\\Alexandre\\Downloads\\FinalDataSet2\\B\n"
     ]
    },
    {
     "name": "stderr",
     "output_type": "stream",
     "text": [
      "100%|█████████████████████████████████████████████████████████████████████████████████| 80/80 [00:00<00:00, 833.33it/s]\n"
     ]
    },
    {
     "name": "stdout",
     "output_type": "stream",
     "text": [
      "C:\\Users\\Alexandre\\Downloads\\FinalDataSet2\\C\n"
     ]
    },
    {
     "name": "stderr",
     "output_type": "stream",
     "text": [
      "100%|█████████████████████████████████████████████████████████████████████████████████| 84/84 [00:00<00:00, 700.01it/s]\n"
     ]
    },
    {
     "name": "stdout",
     "output_type": "stream",
     "text": [
      "C:\\Users\\Alexandre\\Downloads\\FinalDataSet2\\D\n"
     ]
    },
    {
     "name": "stderr",
     "output_type": "stream",
     "text": [
      "100%|█████████████████████████████████████████████████████████████████████████████████| 82/82 [00:00<00:00, 539.47it/s]\n"
     ]
    },
    {
     "name": "stdout",
     "output_type": "stream",
     "text": [
      "C:\\Users\\Alexandre\\Downloads\\FinalDataSet2\\E\n"
     ]
    },
    {
     "name": "stderr",
     "output_type": "stream",
     "text": [
      "100%|█████████████████████████████████████████████████████████████████████████████████| 82/82 [00:00<00:00, 186.37it/s]\n"
     ]
    },
    {
     "name": "stdout",
     "output_type": "stream",
     "text": [
      "C:\\Users\\Alexandre\\Downloads\\FinalDataSet2\\F\n"
     ]
    },
    {
     "name": "stderr",
     "output_type": "stream",
     "text": [
      "100%|█████████████████████████████████████████████████████████████████████████████████| 93/93 [00:00<00:00, 198.68it/s]\n"
     ]
    },
    {
     "name": "stdout",
     "output_type": "stream",
     "text": [
      "C:\\Users\\Alexandre\\Downloads\\FinalDataSet2\\G\n"
     ]
    },
    {
     "name": "stderr",
     "output_type": "stream",
     "text": [
      "100%|█████████████████████████████████████████████████████████████████████████████████| 82/82 [00:00<00:00, 410.00it/s]\n"
     ]
    },
    {
     "name": "stdout",
     "output_type": "stream",
     "text": [
      "C:\\Users\\Alexandre\\Downloads\\FinalDataSet2\\H\n"
     ]
    },
    {
     "name": "stderr",
     "output_type": "stream",
     "text": [
      "100%|█████████████████████████████████████████████████████████████████████████████████| 82/82 [00:00<00:00, 512.50it/s]\n"
     ]
    },
    {
     "name": "stdout",
     "output_type": "stream",
     "text": [
      "C:\\Users\\Alexandre\\Downloads\\FinalDataSet2\\I\n"
     ]
    },
    {
     "name": "stderr",
     "output_type": "stream",
     "text": [
      "100%|█████████████████████████████████████████████████████████████████████████████████| 82/82 [00:00<00:00, 465.95it/s]\n"
     ]
    },
    {
     "name": "stdout",
     "output_type": "stream",
     "text": [
      "C:\\Users\\Alexandre\\Downloads\\FinalDataSet2\\J\n"
     ]
    },
    {
     "name": "stderr",
     "output_type": "stream",
     "text": [
      "100%|█████████████████████████████████████████████████████████████████████████████████| 87/87 [00:00<00:00, 181.22it/s]\n"
     ]
    },
    {
     "name": "stdout",
     "output_type": "stream",
     "text": [
      "C:\\Users\\Alexandre\\Downloads\\FinalDataSet2\\K\n"
     ]
    },
    {
     "name": "stderr",
     "output_type": "stream",
     "text": [
      "100%|██████████████████████████████████████████████████████████████████████████████████| 84/84 [00:01<00:00, 50.10it/s]\n"
     ]
    },
    {
     "name": "stdout",
     "output_type": "stream",
     "text": [
      "C:\\Users\\Alexandre\\Downloads\\FinalDataSet2\\L\n"
     ]
    },
    {
     "name": "stderr",
     "output_type": "stream",
     "text": [
      "100%|█████████████████████████████████████████████████████████████████████████████████| 87/87 [00:00<00:00, 453.16it/s]\n"
     ]
    },
    {
     "name": "stdout",
     "output_type": "stream",
     "text": [
      "C:\\Users\\Alexandre\\Downloads\\FinalDataSet2\\M\n"
     ]
    },
    {
     "name": "stderr",
     "output_type": "stream",
     "text": [
      "100%|█████████████████████████████████████████████████████████████████████████████████| 84/84 [00:00<00:00, 403.84it/s]\n"
     ]
    },
    {
     "name": "stdout",
     "output_type": "stream",
     "text": [
      "C:\\Users\\Alexandre\\Downloads\\FinalDataSet2\\N\n"
     ]
    },
    {
     "name": "stderr",
     "output_type": "stream",
     "text": [
      "100%|█████████████████████████████████████████████████████████████████████████████████| 82/82 [00:00<00:00, 369.02it/s]\n"
     ]
    },
    {
     "name": "stdout",
     "output_type": "stream",
     "text": [
      "C:\\Users\\Alexandre\\Downloads\\FinalDataSet2\\O\n"
     ]
    },
    {
     "name": "stderr",
     "output_type": "stream",
     "text": [
      "100%|█████████████████████████████████████████████████████████████████████████████████| 82/82 [00:00<00:00, 427.01it/s]\n"
     ]
    },
    {
     "name": "stdout",
     "output_type": "stream",
     "text": [
      "C:\\Users\\Alexandre\\Downloads\\FinalDataSet2\\P\n"
     ]
    },
    {
     "name": "stderr",
     "output_type": "stream",
     "text": [
      "100%|█████████████████████████████████████████████████████████████████████████████████| 80/80 [00:00<00:00, 219.25it/s]\n"
     ]
    },
    {
     "name": "stdout",
     "output_type": "stream",
     "text": [
      "C:\\Users\\Alexandre\\Downloads\\FinalDataSet2\\Qu\n"
     ]
    },
    {
     "name": "stderr",
     "output_type": "stream",
     "text": [
      "100%|█████████████████████████████████████████████████████████████████████████████████| 81/81 [00:00<00:00, 361.61it/s]\n"
     ]
    },
    {
     "name": "stdout",
     "output_type": "stream",
     "text": [
      "C:\\Users\\Alexandre\\Downloads\\FinalDataSet2\\R\n"
     ]
    },
    {
     "name": "stderr",
     "output_type": "stream",
     "text": [
      "100%|█████████████████████████████████████████████████████████████████████████████████| 82/82 [00:00<00:00, 301.37it/s]\n"
     ]
    },
    {
     "name": "stdout",
     "output_type": "stream",
     "text": [
      "C:\\Users\\Alexandre\\Downloads\\FinalDataSet2\\S\n"
     ]
    },
    {
     "name": "stderr",
     "output_type": "stream",
     "text": [
      "100%|█████████████████████████████████████████████████████████████████████████████████| 82/82 [00:00<00:00, 409.84it/s]\n"
     ]
    },
    {
     "name": "stdout",
     "output_type": "stream",
     "text": [
      "C:\\Users\\Alexandre\\Downloads\\FinalDataSet2\\T\n"
     ]
    },
    {
     "name": "stderr",
     "output_type": "stream",
     "text": [
      "100%|█████████████████████████████████████████████████████████████████████████████████| 84/84 [00:00<00:00, 328.01it/s]\n"
     ]
    },
    {
     "name": "stdout",
     "output_type": "stream",
     "text": [
      "C:\\Users\\Alexandre\\Downloads\\FinalDataSet2\\U\n"
     ]
    },
    {
     "name": "stderr",
     "output_type": "stream",
     "text": [
      "100%|█████████████████████████████████████████████████████████████████████████████████| 82/82 [00:00<00:00, 353.41it/s]\n"
     ]
    },
    {
     "name": "stdout",
     "output_type": "stream",
     "text": [
      "C:\\Users\\Alexandre\\Downloads\\FinalDataSet2\\V\n"
     ]
    },
    {
     "name": "stderr",
     "output_type": "stream",
     "text": [
      "100%|█████████████████████████████████████████████████████████████████████████████████| 80/80 [00:00<00:00, 434.61it/s]\n"
     ]
    },
    {
     "name": "stdout",
     "output_type": "stream",
     "text": [
      "C:\\Users\\Alexandre\\Downloads\\FinalDataSet2\\W\n"
     ]
    },
    {
     "name": "stderr",
     "output_type": "stream",
     "text": [
      "100%|█████████████████████████████████████████████████████████████████████████████████| 80/80 [00:00<00:00, 499.71it/s]\n"
     ]
    },
    {
     "name": "stdout",
     "output_type": "stream",
     "text": [
      "C:\\Users\\Alexandre\\Downloads\\FinalDataSet2\\X\n"
     ]
    },
    {
     "name": "stderr",
     "output_type": "stream",
     "text": [
      "100%|█████████████████████████████████████████████████████████████████████████████████| 80/80 [00:00<00:00, 666.67it/s]\n"
     ]
    },
    {
     "name": "stdout",
     "output_type": "stream",
     "text": [
      "C:\\Users\\Alexandre\\Downloads\\FinalDataSet2\\Y\n"
     ]
    },
    {
     "name": "stderr",
     "output_type": "stream",
     "text": [
      "100%|█████████████████████████████████████████████████████████████████████████████████| 80/80 [00:00<00:00, 510.60it/s]\n"
     ]
    },
    {
     "name": "stdout",
     "output_type": "stream",
     "text": [
      "C:\\Users\\Alexandre\\Downloads\\FinalDataSet2\\z\n"
     ]
    },
    {
     "name": "stderr",
     "output_type": "stream",
     "text": [
      "100%|█████████████████████████████████████████████████████████████████████████████████| 80/80 [00:00<00:00, 370.35it/s]\n"
     ]
    },
    {
     "name": "stdout",
     "output_type": "stream",
     "text": [
      "training image shape : (1730, 100, 100)\n",
      "testing  image shape : (416, 100, 100)\n",
      "\n"
     ]
    }
   ],
   "source": [
    "for path in os.listdir(dirpath):\n",
    "    print(dirpath+\"\\\\\"+path)\n",
    "    count = 1\n",
    "    testImageNumber = random.sample(range(0,len(glob.glob(dirpath+\"\\\\\"+path+\"\\\\*.png\"))),round(len(glob.glob(dirpath+\"\\\\\"+path+\"\\\\*.png\"))*0.2))\n",
    "    #on génére une suite de nombre aléatoire unique en regardant combien d'image se trouve dans le fichier, permet de séparer train/test\n",
    "    label = trainPath.index(path)\n",
    "    for png in tqdm(glob.glob(dirpath+\"\\\\\"+path+\"\\\\*.png\")):\n",
    "        count+=1\n",
    "        image = cv2.imread(png,0)\n",
    "        image = cv2.resize(image, (100, 100))\n",
    "        \n",
    "        if (count%40 == 39):\n",
    "            x_train = np.append(x_train, train_images_load, axis=0)\n",
    "            x_test = np.append(x_test, test_images_load, axis=0)\n",
    "            y_train = np.append(y_train, train_labels_load, axis=0)\n",
    "            y_test = np.append(y_test, test_labels_load, axis=0)\n",
    "            \n",
    "            train_images_load = np.empty((0,size[1], size[0]), int)\n",
    "            test_images_load = np.empty((0,size[1], size[0]), int)\n",
    "            train_labels_load = np.empty((0,1), int)\n",
    "            test_labels_load = np.empty((0,1), int)\n",
    "            \n",
    "        if (count in testImageNumber):\n",
    "            test_images_load = np.append(test_images_load, [image], axis=0)\n",
    "            test_labels_load = np.append(test_labels_load, [[label]], axis=0)\n",
    "        else:     \n",
    "            train_images_load = np.append(train_images_load, [image],axis = 0)\n",
    "            train_labels_load = np.append(train_labels_load, [[label]], axis = 0)\n",
    "            \n",
    "\n",
    "x_train = np.append(x_train, train_images_load, axis=0)\n",
    "x_test = np.append(x_test, test_images_load, axis=0)\n",
    "y_train = np.append(y_train, train_labels_load, axis=0)\n",
    "y_test = np.append(y_test, test_labels_load, axis=0)\n",
    "\n",
    "x_train, x_test = x_train / 255.0, x_test / 255.0\n",
    "print(\"training image shape : \"+str(x_train.shape))\n",
    "print(\"testing  image shape : \"+str(x_test.shape)+\"\\n\")\n",
    "\n",
    "x_train, x_val, y_train, y_val = train_test_split(x_train, y_train, test_size=0.20, shuffle=True)"
   ]
  },
  {
   "cell_type": "code",
   "execution_count": 4,
   "id": "f438053d",
   "metadata": {},
   "outputs": [],
   "source": [
    "model = tf.keras.models.Sequential([\n",
    "    keras.layers.Conv2D( 64, 7, activation =\"relu\", padding =\"same\", input_shape =[ 100, 100, 1]),\n",
    "    keras.layers.MaxPooling2D(2),  tf.keras.layers.Conv2D(128, 3, activation =\"relu\", padding =\"same\"),\n",
    "    keras.layers.Conv2D( 64, 7, activation =\"relu\", padding =\"same\"),\n",
    "    keras.layers.MaxPooling2D(2),  tf.keras.layers.Conv2D(256, 3, activation =\"relu\", padding =\"same\"),\n",
    "    \n",
    "    keras.layers.MaxPooling2D( 2),\n",
    "    \n",
    "    keras.layers.Flatten(),\n",
    "    keras.layers.BatchNormalization(),\n",
    "    keras.layers.Dense(200, activation=\"relu\"),\n",
    "    keras.layers.BatchNormalization(),\n",
    "    keras.layers.Dense(26, activation=\"softmax\")\n",
    "])"
   ]
  },
  {
   "cell_type": "code",
   "execution_count": 5,
   "id": "d1b8dc61",
   "metadata": {},
   "outputs": [],
   "source": [
    "model.compile(optimizer=\"adam\", loss=\"sparse_categorical_crossentropy\", metrics=[\"accuracy\"])"
   ]
  },
  {
   "cell_type": "code",
   "execution_count": 6,
   "id": "fc71fb8d",
   "metadata": {
    "scrolled": true
   },
   "outputs": [
    {
     "name": "stdout",
     "output_type": "stream",
     "text": [
      "Epoch 1/4\n",
      "39/39 [==============================] - 75s 2s/step - loss: 1.6559 - accuracy: 0.5518 - val_loss: 2.8095 - val_accuracy: 0.1871\n",
      "Epoch 2/4\n",
      "39/39 [==============================] - 75s 2s/step - loss: 0.3932 - accuracy: 0.9012 - val_loss: 2.9524 - val_accuracy: 0.1511\n",
      "Epoch 3/4\n",
      "39/39 [==============================] - 75s 2s/step - loss: 0.1549 - accuracy: 0.9719 - val_loss: 1.9976 - val_accuracy: 0.5827\n",
      "Epoch 4/4\n",
      "39/39 [==============================] - 78s 2s/step - loss: 0.0683 - accuracy: 0.9904 - val_loss: 1.4429 - val_accuracy: 0.7698\n"
     ]
    },
    {
     "data": {
      "image/png": "[encoded data removed]",
      "text/plain": [
       "<Figure size 576x360 with 1 Axes>"
      ]
     },
     "metadata": {
      "needs_background": "light"
     },
     "output_type": "display_data"
    }
   ],
   "source": [
    "history = model.fit(x_train, y_train, epochs=4, validation_split=0.1,verbose=1)\n",
    "utils.plot_fit_history(history)"
   ]
  },
  {
   "cell_type": "code",
   "execution_count": 7,
   "id": "152ef012",
   "metadata": {},
   "outputs": [
    {
     "name": "stdout",
     "output_type": "stream",
     "text": [
      "13/13 [==============================] - 4s 333ms/step\n"
     ]
    }
   ],
   "source": [
    "y_pred = model.predict(x_test)"
   ]
  },
  {
   "cell_type": "code",
   "execution_count": 8,
   "id": "e82a8389",
   "metadata": {},
   "outputs": [],
   "source": [
    "import seaborn as sns\n",
    "label_names = ['A', 'B','C','D', 'E','F','G', 'H','I','J', 'K','L','M', 'N','O','P', 'Qu','R', 'S', 'T','U','V', 'W','X','Y','Z']"
   ]
  },
  {
   "cell_type": "code",
   "execution_count": 9,
   "id": "deaac61b",
   "metadata": {
    "scrolled": false
   },
   "outputs": [
    {
     "data": {
      "image/png": "[encoded data removed]",
      "text/plain": [
       "<Figure size 432x288 with 1 Axes>"
      ]
     },
     "metadata": {
      "needs_background": "light"
     },
     "output_type": "display_data"
    },
    {
     "data": {
      "text/plain": [
       "'C'"
      ]
     },
     "execution_count": 9,
     "metadata": {},
     "output_type": "execute_result"
    }
   ],
   "source": [
    "i = 50\n",
    "plt.imshow(x_test[i], cmap=\"gray\", interpolation=\"nearest\")\n",
    "plt.axis(\"off\")\n",
    "plt.show()\n",
    "y = y_pred[i]\n",
    "x = label_names\n",
    "\n",
    "# sns.barplot(x=x, y=y)\n",
    "x[np.argmax(y)]\n"
   ]
  },
  {
   "cell_type": "code",
   "execution_count": 10,
   "id": "4c65a429",
   "metadata": {},
   "outputs": [
    {
     "name": "stdout",
     "output_type": "stream",
     "text": [
      "C:\\Users\\Alexandre\\Documents\\ecole\\IT 4\\IA\\projet\\boards\\board_1.png\n"
     ]
    },
    {
     "name": "stderr",
     "output_type": "stream",
     "text": [
      "100%|████████████████████████████████████████████████████████████████████████████████████| 1/1 [00:00<00:00, 41.66it/s]\n"
     ]
    },
    {
     "name": "stdout",
     "output_type": "stream",
     "text": [
      "C:\\Users\\Alexandre\\Documents\\ecole\\IT 4\\IA\\projet\\boards\\board_2.png\n"
     ]
    },
    {
     "name": "stderr",
     "output_type": "stream",
     "text": [
      "100%|████████████████████████████████████████████████████████████████████████████████████| 1/1 [00:00<00:00, 41.50it/s]\n"
     ]
    },
    {
     "name": "stdout",
     "output_type": "stream",
     "text": [
      "C:\\Users\\Alexandre\\Documents\\ecole\\IT 4\\IA\\projet\\boards\\board_3.png\n"
     ]
    },
    {
     "name": "stderr",
     "output_type": "stream",
     "text": [
      "100%|████████████████████████████████████████████████████████████████████████████████████| 1/1 [00:00<00:00, 41.66it/s]\n"
     ]
    },
    {
     "name": "stdout",
     "output_type": "stream",
     "text": [
      "C:\\Users\\Alexandre\\Documents\\ecole\\IT 4\\IA\\projet\\boards\\board_4.png\n"
     ]
    },
    {
     "name": "stderr",
     "output_type": "stream",
     "text": [
      "100%|████████████████████████████████████████████████████████████████████████████████████| 1/1 [00:00<00:00, 41.67it/s]\n"
     ]
    },
    {
     "name": "stdout",
     "output_type": "stream",
     "text": [
      "C:\\Users\\Alexandre\\Documents\\ecole\\IT 4\\IA\\projet\\boards\\board_5.png\n"
     ]
    },
    {
     "name": "stderr",
     "output_type": "stream",
     "text": [
      "100%|████████████████████████████████████████████████████████████████████████████████████| 1/1 [00:00<00:00, 62.38it/s]"
     ]
    },
    {
     "name": "stdout",
     "output_type": "stream",
     "text": [
      "training image shape : (5, 100, 100)\n"
     ]
    },
    {
     "name": "stderr",
     "output_type": "stream",
     "text": [
      "\n"
     ]
    }
   ],
   "source": [
    "dirpath = r\"C:\\Users\\Alexandre\\Documents\\ecole\\IT 4\\IA\\projet\\boards\"\n",
    "\n",
    "size = [100,100]\n",
    "\n",
    "board_image_load = np.empty((0,size[1], size[0]), int)\n",
    "\n",
    "x_board = np.empty((0,size[1], size[0]), int)\n",
    "\n",
    "trainPath = []\n",
    "for path in os.listdir(dirpath):\n",
    "    trainPath.append(path)\n",
    "    \n",
    "for path in os.listdir(dirpath):\n",
    "    print(dirpath+\"\\\\\"+path)\n",
    "    count = 1\n",
    "    testImageNumber = random.sample(range(0,len(glob.glob(dirpath+\"\\\\\"+path+\"\\\\*.png\"))),round(len(glob.glob(dirpath+\"\\\\\"+path+\"\\\\*.png\"))*0.2))\n",
    "    #on génére une suite de nombre aléatoire unique en regardant combien d'image se trouve dans le fichier, permet de séparer train/test\n",
    "    label = trainPath.index(path)\n",
    "    \n",
    "    for png in tqdm(glob.glob(dirpath+\"\\\\\"+path)):\n",
    "        count+=1\n",
    "        image = cv2.imread(png,0)\n",
    "        image = cv2.resize(image, (100, 100))\n",
    "                \n",
    "        if (count%40 == 39):\n",
    "            x_board = np.append(x_board, board_image_load, axis=0)\n",
    "            \n",
    "            board_image_load = np.empty((0,size[1], size[0]), int)\n",
    "            \n",
    "        if (count not in testImageNumber):\n",
    "            board_image_load = np.append(board_image_load, [image],axis = 0)\n",
    "        else:     \n",
    "            board_image_load = np.append(board_image_load, [image],axis = 0)\n",
    "            \n",
    "\n",
    "x_board = np.append(x_board, board_image_load, axis=0)\n",
    "\n",
    "print(\"training image shape : \"+str(x_board.shape))"
   ]
  },
  {
   "cell_type": "code",
   "execution_count": 11,
   "id": "c95eccb2",
   "metadata": {},
   "outputs": [
    {
     "name": "stdout",
     "output_type": "stream",
     "text": [
      "1/1 [==============================] - 0s 136ms/step\n"
     ]
    }
   ],
   "source": [
    "pred = model.predict(x_board)"
   ]
  },
  {
   "cell_type": "code",
   "execution_count": 12,
   "id": "9fd30b67",
   "metadata": {},
   "outputs": [
    {
     "data": {
      "text/plain": [
       "<matplotlib.image.AxesImage at 0x22a457e5ee0>"
      ]
     },
     "execution_count": 12,
     "metadata": {},
     "output_type": "execute_result"
    },
    {
     "data": {
      "image/png": "[encoded data removed]",
      "text/plain": [
       "<Figure size 432x288 with 1 Axes>"
      ]
     },
     "metadata": {
      "needs_background": "light"
     },
     "output_type": "display_data"
    }
   ],
   "source": [
    "plt.imshow(x_board[0], cmap=\"gray\")"
   ]
  },
  {
   "cell_type": "code",
   "execution_count": 13,
   "id": "e4a1249c",
   "metadata": {},
   "outputs": [
    {
     "data": {
      "text/plain": [
       "<AxesSubplot:>"
      ]
     },
     "execution_count": 13,
     "metadata": {},
     "output_type": "execute_result"
    },
    {
     "data": {
      "image/png": "[encoded data removed]",
      "text/plain": [
       "<Figure size 432x288 with 1 Axes>"
      ]
     },
     "metadata": {
      "needs_background": "light"
     },
     "output_type": "display_data"
    }
   ],
   "source": [
    "y = pred[2]\n",
    "sns.barplot(x=x, y=y)"
   ]
  },
  {
   "cell_type": "code",
   "execution_count": 14,
   "id": "ce6c8d93",
   "metadata": {},
   "outputs": [
    {
     "name": "stderr",
     "output_type": "stream",
     "text": [
      "WARNING:absl:Found untraced functions such as _jit_compiled_convolution_op, _jit_compiled_convolution_op, _jit_compiled_convolution_op, _jit_compiled_convolution_op while saving (showing 4 of 4). These functions will not be directly callable after loading.\n"
     ]
    },
    {
     "name": "stdout",
     "output_type": "stream",
     "text": [
      "INFO:tensorflow:Assets written to: C:/Users/Alexandre/Documents/ecole/IT 4/IA/projet/image_model\\0001\\assets\n"
     ]
    },
    {
     "name": "stderr",
     "output_type": "stream",
     "text": [
      "INFO:tensorflow:Assets written to: C:/Users/Alexandre/Documents/ecole/IT 4/IA/projet/image_model\\0001\\assets\n"
     ]
    }
   ],
   "source": [
    "model_version = \"0001\"\n",
    "\n",
    "model_name = \"image_model\"\n",
    "model_path = os.path.join(\"C:/Users/Alexandre/Documents/ecole/IT 4/IA/projet/\" + model_name, model_version)\n",
    "\n",
    "tf.saved_model.save(model, model_path)"
   ]
  },
  {
   "cell_type": "code",
   "execution_count": 18,
   "id": "5363f0ce",
   "metadata": {},
   "outputs": [],
   "source": [
    "saved_model = tf.saved_model.load( model_path) "
   ]
  },
  {
   "cell_type": "code",
   "execution_count": 19,
   "id": "feecc2b3",
   "metadata": {},
   "outputs": [
    {
     "ename": "ValueError",
     "evalue": "Could not find matching concrete function to call loaded from the SavedModel. Got:\n  Positional arguments (3 total):\n    * <tf.Tensor 'inputs:0' shape=(3, 100, 100) dtype=float32>\n    * False\n    * None\n  Keyword arguments: {}\n\n Expected these arguments to match one of the following 4 option(s):\n\nOption 1:\n  Positional arguments (3 total):\n    * TensorSpec(shape=(None, 100, 100, 1), dtype=tf.float32, name='conv2d_input')\n    * False\n    * None\n  Keyword arguments: {}\n\nOption 2:\n  Positional arguments (3 total):\n    * TensorSpec(shape=(None, 100, 100, 1), dtype=tf.float32, name='inputs')\n    * False\n    * None\n  Keyword arguments: {}\n\nOption 3:\n  Positional arguments (3 total):\n    * TensorSpec(shape=(None, 100, 100, 1), dtype=tf.float32, name='inputs')\n    * True\n    * None\n  Keyword arguments: {}\n\nOption 4:\n  Positional arguments (3 total):\n    * TensorSpec(shape=(None, 100, 100, 1), dtype=tf.float32, name='conv2d_input')\n    * True\n    * None\n  Keyword arguments: {}",
     "output_type": "error",
     "traceback": [
      "\u001b[1;31m---------------------------------------------------------------------------\u001b[0m",
      "\u001b[1;31mValueError\u001b[0m                                Traceback (most recent call last)",
      "Input \u001b[1;32mIn [19]\u001b[0m, in \u001b[0;36m<cell line: 3>\u001b[1;34m()\u001b[0m\n\u001b[0;32m      1\u001b[0m X_new \u001b[38;5;241m=\u001b[39m x_test[:\u001b[38;5;241m3\u001b[39m]\n\u001b[1;32m----> 3\u001b[0m y_pred \u001b[38;5;241m=\u001b[39m \u001b[43msaved_model\u001b[49m\u001b[43m(\u001b[49m\u001b[43m \u001b[49m\u001b[43mtf\u001b[49m\u001b[38;5;241;43m.\u001b[39;49m\u001b[43mconstant\u001b[49m\u001b[43m(\u001b[49m\u001b[43m \u001b[49m\u001b[43mX_new\u001b[49m\u001b[43m,\u001b[49m\u001b[43m \u001b[49m\u001b[43mdtype\u001b[49m\u001b[43m \u001b[49m\u001b[38;5;241;43m=\u001b[39;49m\u001b[43m \u001b[49m\u001b[43mtf\u001b[49m\u001b[38;5;241;43m.\u001b[39;49m\u001b[43mfloat32\u001b[49m\u001b[43m)\u001b[49m\u001b[43m)\u001b[49m\n\u001b[0;32m      4\u001b[0m y_pred\n",
      "File \u001b[1;32m~\\anaconda3\\lib\\site-packages\\tensorflow\\python\\saved_model\\load.py:686\u001b[0m, in \u001b[0;36m_call_attribute\u001b[1;34m(instance, *args, **kwargs)\u001b[0m\n\u001b[0;32m    685\u001b[0m \u001b[38;5;28;01mdef\u001b[39;00m \u001b[38;5;21m_call_attribute\u001b[39m(instance, \u001b[38;5;241m*\u001b[39margs, \u001b[38;5;241m*\u001b[39m\u001b[38;5;241m*\u001b[39mkwargs):\n\u001b[1;32m--> 686\u001b[0m   \u001b[38;5;28;01mreturn\u001b[39;00m instance\u001b[38;5;241m.\u001b[39m\u001b[38;5;21m__call__\u001b[39m(\u001b[38;5;241m*\u001b[39margs, \u001b[38;5;241m*\u001b[39m\u001b[38;5;241m*\u001b[39mkwargs)\n",
      "File \u001b[1;32m~\\anaconda3\\lib\\site-packages\\tensorflow\\python\\util\\traceback_utils.py:153\u001b[0m, in \u001b[0;36mfilter_traceback.<locals>.error_handler\u001b[1;34m(*args, **kwargs)\u001b[0m\n\u001b[0;32m    151\u001b[0m \u001b[38;5;28;01mexcept\u001b[39;00m \u001b[38;5;167;01mException\u001b[39;00m \u001b[38;5;28;01mas\u001b[39;00m e:\n\u001b[0;32m    152\u001b[0m   filtered_tb \u001b[38;5;241m=\u001b[39m _process_traceback_frames(e\u001b[38;5;241m.\u001b[39m__traceback__)\n\u001b[1;32m--> 153\u001b[0m   \u001b[38;5;28;01mraise\u001b[39;00m e\u001b[38;5;241m.\u001b[39mwith_traceback(filtered_tb) \u001b[38;5;28;01mfrom\u001b[39;00m \u001b[38;5;28mNone\u001b[39m\n\u001b[0;32m    154\u001b[0m \u001b[38;5;28;01mfinally\u001b[39;00m:\n\u001b[0;32m    155\u001b[0m   \u001b[38;5;28;01mdel\u001b[39;00m filtered_tb\n",
      "File \u001b[1;32m~\\anaconda3\\lib\\site-packages\\tensorflow\\python\\saved_model\\function_deserialization.py:286\u001b[0m, in \u001b[0;36mrecreate_function.<locals>.restored_function_body\u001b[1;34m(*args, **kwargs)\u001b[0m\n\u001b[0;32m    282\u001b[0m   positional, keyword \u001b[38;5;241m=\u001b[39m concrete_function\u001b[38;5;241m.\u001b[39mstructured_input_signature\n\u001b[0;32m    283\u001b[0m   signature_descriptions\u001b[38;5;241m.\u001b[39mappend(\n\u001b[0;32m    284\u001b[0m       \u001b[38;5;124m\"\u001b[39m\u001b[38;5;124mOption \u001b[39m\u001b[38;5;132;01m{}\u001b[39;00m\u001b[38;5;124m:\u001b[39m\u001b[38;5;130;01m\\n\u001b[39;00m\u001b[38;5;124m  \u001b[39m\u001b[38;5;132;01m{}\u001b[39;00m\u001b[38;5;130;01m\\n\u001b[39;00m\u001b[38;5;124m  Keyword arguments: \u001b[39m\u001b[38;5;132;01m{}\u001b[39;00m\u001b[38;5;124m\"\u001b[39m\n\u001b[0;32m    285\u001b[0m       \u001b[38;5;241m.\u001b[39mformat(index \u001b[38;5;241m+\u001b[39m \u001b[38;5;241m1\u001b[39m, _pretty_format_positional(positional), keyword))\n\u001b[1;32m--> 286\u001b[0m \u001b[38;5;28;01mraise\u001b[39;00m \u001b[38;5;167;01mValueError\u001b[39;00m(\n\u001b[0;32m    287\u001b[0m     \u001b[38;5;124m\"\u001b[39m\u001b[38;5;124mCould not find matching concrete function to call loaded from the \u001b[39m\u001b[38;5;124m\"\u001b[39m\n\u001b[0;32m    288\u001b[0m     \u001b[38;5;124mf\u001b[39m\u001b[38;5;124m\"\u001b[39m\u001b[38;5;124mSavedModel. Got:\u001b[39m\u001b[38;5;130;01m\\n\u001b[39;00m\u001b[38;5;124m  \u001b[39m\u001b[38;5;132;01m{\u001b[39;00m_pretty_format_positional(args)\u001b[38;5;132;01m}\u001b[39;00m\u001b[38;5;130;01m\\n\u001b[39;00m\u001b[38;5;124m  Keyword \u001b[39m\u001b[38;5;124m\"\u001b[39m\n\u001b[0;32m    289\u001b[0m     \u001b[38;5;124mf\u001b[39m\u001b[38;5;124m\"\u001b[39m\u001b[38;5;124marguments: \u001b[39m\u001b[38;5;132;01m{\u001b[39;00mkwargs\u001b[38;5;132;01m}\u001b[39;00m\u001b[38;5;130;01m\\n\u001b[39;00m\u001b[38;5;130;01m\\n\u001b[39;00m\u001b[38;5;124m Expected these arguments to match one of the \u001b[39m\u001b[38;5;124m\"\u001b[39m\n\u001b[0;32m    290\u001b[0m     \u001b[38;5;124mf\u001b[39m\u001b[38;5;124m\"\u001b[39m\u001b[38;5;124mfollowing \u001b[39m\u001b[38;5;132;01m{\u001b[39;00m\u001b[38;5;28mlen\u001b[39m(saved_function\u001b[38;5;241m.\u001b[39mconcrete_functions)\u001b[38;5;132;01m}\u001b[39;00m\u001b[38;5;124m option(s):\u001b[39m\u001b[38;5;130;01m\\n\u001b[39;00m\u001b[38;5;130;01m\\n\u001b[39;00m\u001b[38;5;124m\"\u001b[39m\n\u001b[0;32m    291\u001b[0m     \u001b[38;5;124mf\u001b[39m\u001b[38;5;124m\"\u001b[39m\u001b[38;5;132;01m{\u001b[39;00m(\u001b[38;5;28mchr\u001b[39m(\u001b[38;5;241m10\u001b[39m)\u001b[38;5;241m+\u001b[39m\u001b[38;5;28mchr\u001b[39m(\u001b[38;5;241m10\u001b[39m))\u001b[38;5;241m.\u001b[39mjoin(signature_descriptions)\u001b[38;5;132;01m}\u001b[39;00m\u001b[38;5;124m\"\u001b[39m)\n",
      "\u001b[1;31mValueError\u001b[0m: Could not find matching concrete function to call loaded from the SavedModel. Got:\n  Positional arguments (3 total):\n    * <tf.Tensor 'inputs:0' shape=(3, 100, 100) dtype=float32>\n    * False\n    * None\n  Keyword arguments: {}\n\n Expected these arguments to match one of the following 4 option(s):\n\nOption 1:\n  Positional arguments (3 total):\n    * TensorSpec(shape=(None, 100, 100, 1), dtype=tf.float32, name='conv2d_input')\n    * False\n    * None\n  Keyword arguments: {}\n\nOption 2:\n  Positional arguments (3 total):\n    * TensorSpec(shape=(None, 100, 100, 1), dtype=tf.float32, name='inputs')\n    * False\n    * None\n  Keyword arguments: {}\n\nOption 3:\n  Positional arguments (3 total):\n    * TensorSpec(shape=(None, 100, 100, 1), dtype=tf.float32, name='inputs')\n    * True\n    * None\n  Keyword arguments: {}\n\nOption 4:\n  Positional arguments (3 total):\n    * TensorSpec(shape=(None, 100, 100, 1), dtype=tf.float32, name='conv2d_input')\n    * True\n    * None\n  Keyword arguments: {}"
     ]
    }
   ],
   "source": [
    "X_new = x_test[:3]\n",
    "\n",
    "y_pred = saved_model( tf.constant( X_new, dtype = tf.float32))\n",
    "y_pred"
   ]
  }
 ],
 "metadata": {
  "kernelspec": {
   "display_name": "Python 3 (ipykernel)",
   "language": "python",
   "name": "python3"
  },
  "language_info": {
   "codemirror_mode": {
    "name": "ipython",
    "version": 3
   },
   "file_extension": ".py",
   "mimetype": "text/x-python",
   "name": "python",
   "nbconvert_exporter": "python",
   "pygments_lexer": "ipython3",
   "version": "3.9.12"
  }
 },
 "nbformat": 4,
 "nbformat_minor": 5
}
